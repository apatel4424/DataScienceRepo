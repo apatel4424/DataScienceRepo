{
 "cells": [
  {
   "cell_type": "markdown",
   "id": "febf3c39-2c7c-461f-8823-ddfb39255aec",
   "metadata": {},
   "source": [
    "# Data Science Tools and Ecosystem"
   ]
  },
  {
   "cell_type": "markdown",
   "id": "5be352fb-c9af-426f-b9a2-953af8904884",
   "metadata": {},
   "source": [
    "In this notebook, Data Science Tools and Ecosystem are summarized."
   ]
  },
  {
   "cell_type": "markdown",
   "id": "899e6c16-c803-4d67-b37f-c24d2634f172",
   "metadata": {},
   "source": [
    "Some of the popular languages that Data Scientists use are:\n",
    "1. Python\n",
    "2. R\n",
    "3. SQL\n",
    "4. Java"
   ]
  },
  {
   "cell_type": "markdown",
   "id": "2837ca63-3c9a-4bd3-80f3-8abdab386c39",
   "metadata": {},
   "source": [
    "Some of the commonly used libraries used by Data Scientists include:\n",
    "1. Pandas\n",
    "2. NumPy\n",
    "3. SciPy\n",
    "4. Matplotlib\n",
    "   "
   ]
  },
  {
   "cell_type": "markdown",
   "id": "0f520f4c-c5c6-4633-8dc4-bba1e049b5c9",
   "metadata": {},
   "source": [
    "|Data Science Tools |\n",
    "|-------------------|\n",
    "| Jupyter Notebook |\n",
    "| SQL |\n",
    "| Apache Hadoop |\n",
    "| R Studio |"
   ]
  },
  {
   "cell_type": "markdown",
   "id": "eaa218d8-0c1c-4468-9fee-c292e4407a2e",
   "metadata": {},
   "source": [
    "### Below are a few examples of evaluating arithmetic expressions in Python"
   ]
  },
  {
   "cell_type": "code",
   "execution_count": 10,
   "id": "d3af25b0-cc54-43d5-a800-4e82d94202d3",
   "metadata": {},
   "outputs": [
    {
     "data": {
      "text/plain": [
       "17"
      ]
     },
     "execution_count": 10,
     "metadata": {},
     "output_type": "execute_result"
    }
   ],
   "source": [
    "#This a simple arithmetic expression to multiply then add integers\n",
    "(3*4)+5"
   ]
  },
  {
   "cell_type": "code",
   "execution_count": 12,
   "id": "6411c150-c5b3-409d-a00b-ba4ae0096f49",
   "metadata": {},
   "outputs": [
    {
     "data": {
      "text/plain": [
       "3"
      ]
     },
     "execution_count": 12,
     "metadata": {},
     "output_type": "execute_result"
    }
   ],
   "source": [
    "# This will convert 200 minutes to hours by dividing by 60\n",
    "200//60"
   ]
  },
  {
   "cell_type": "markdown",
   "id": "fb999f35-4b6d-44e0-9879-977795a2559a",
   "metadata": {},
   "source": [
    "**Objectives:**\n",
    "- Describe the components of a Data Scientist's toolkit and list various tool categories.\n",
    "- List examples of open-source tools used in data science.\n",
    "- Describe the relevant features of open-source tools.\n",
    "- List examples of commercial and cloud-based data science tools."
   ]
  },
  {
   "cell_type": "markdown",
   "id": "e8581adc-dc58-414d-ad2f-27df66fc98bd",
   "metadata": {},
   "source": [
    "## Author\n",
    "Atul Patel"
   ]
  },
  {
   "cell_type": "code",
   "execution_count": null,
   "id": "4b27384f-456c-49f6-aadb-4044c6d0f0b7",
   "metadata": {},
   "outputs": [],
   "source": []
  }
 ],
 "metadata": {
  "kernelspec": {
   "display_name": "Python 3 (ipykernel)",
   "language": "python",
   "name": "python3"
  },
  "language_info": {
   "codemirror_mode": {
    "name": "ipython",
    "version": 3
   },
   "file_extension": ".py",
   "mimetype": "text/x-python",
   "name": "python",
   "nbconvert_exporter": "python",
   "pygments_lexer": "ipython3",
   "version": "3.11.9"
  }
 },
 "nbformat": 4,
 "nbformat_minor": 5
}
